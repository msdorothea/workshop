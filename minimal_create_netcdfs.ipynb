#Imports
from constants import constants as cc
#import Pangu_namelist as namelist
import pandas as pd
import xarray as xr
import numpy as np
import sys
import matplotlib.pyplot as plt
import cartopy.crs as ccrs
from datetime import datetime,timedelta
import properscoring as ps
from functools import partial
import psutil #To Check Memory


#minmal version für Fehlersuche

start_init_date = '2016-08-15' # first initialization date to evaluate
end_init_date = '2016-08-17' # last initialization date to evaluate
delta_init_date = 2 # frequency of forecast initializations (in days) #Was not used!delta_init_date = 2

ne = 20# number of ensemble members including control forecast
lt = 240# Maximum lead time
dt = 24# time increment between leadtimes (should not be changed)
leadtimes = ['{:03d}'.format(t) for t in range(0, lt+1, dt)]
#For RF-Pangu / Analysis(ERA5)
members = ['pf{:02d}'.format(m) for m in range(1,ne+1)]    #strings like 'pf01', 'pf02', 'pf03', 
members.append('cf')
var_type = 'pl'# variable type to evaluate (pl or sfc)#pl= upper-air vairable, then specify var_lev, else sfc= surface variable (see pangu paper)
var = 'Z'# variable to evaluate
var_lev = 50000# variable level
in_data_dir = '/data/nw3440/lsdfmount/2023_Dorothea/output_data' #'/data/nw3440/lsdfmount_aspire/2023_Dorothea/output_data'# directory where data are located
an_data_dir = '/data/nw3440/lsdfmount/ec.era5'
init_dates = pd.date_range(start_init_date,end_init_date,freq='2d').strftime('%Y-%m-%d')# list of fcinitialization dates in 2016-08-15 format
threshold_percent=50

def make_coarse(xr):
    new_lat=np.arange(90,-91,-1)
    new_lon=np.arange(0,360,1)
    coarse_xr =xr.sel(lat= new_lat, lon= new_lon)
    return coarse_xr

def check_memory_threshold(threshold_percent): # enter wished threshhold percent , e.g. threshold_percent = 30
    # Get memory usage information
    memory_info = psutil.virtual_memory()
    # Calculate the percentage of used memory
    used_memory_percent = memory_info.percent
    
    # Check if the used memory percentage is greater than the threshold
    if used_memory_percent > threshold_percent:
        print('Crossed {}% internal memory!!!!!!'.format(threshold_percent))
        print('->used {}% internal memory!'.format(used_memory_percent))
        return True
    else:
        print('used {}% internal memory'.format(used_memory_percent))
        return False 


def read_ens_data(date):
    ds_ens = None
    for m, member in enumerate(members):
        check_memory_threshold(35)
        filenames = ['{:s}/{:s}/fc_{:s}_{:s}_{:s}_{:s}'.format(
            in_data_dir, date, member, var_type, date, time
        ) for time in leadtimes]
        
        try:
            if var_type == 'pl':
                ds = xr.open_mfdataset(filenames,
                                        engine='netcdf4',
                                        parallel=True,
                                        concat_dim='time',
                                        combine='nested',
                                        chunks=None  
                                        ).sel(plev=var_lev)[var].compute()
                ds = make_coarse(ds)
            else:
                ds = xr.open_mfdataset(filenames,
                                        engine='netcdf4',
                                        parallel=True,
                                        concat_dim='time',
                                        combine='nested',
                                        chunks=None  
                                        )[var].compute()
                ds = make_coarse(ds)
            
            if m == 0:
                ds_ens = ds.copy()
            else:
                ds_ens = xr.concat([ds_ens, ds], dim='number')
        except Exception as e:
            print(f"Error occurred while opening NetCDF file: {e}")
            print(f"Filename causing the problem: {filenames}")
            return None  # Or any other action you want to take in case of an error
        finally:
            if 'ds' in locals():
                ds.close()
    
    if ds_ens is not None:
        ds_ens['time'] = list(map(float, leadtimes))
        
        if var_type == 'pl':
            ds_ens = ds_ens.drop_vars('plev')
        
        ds_ens['number'] = list(members2)
        print(filenames)
        print('read PANGU data on date ' + str(date))
    
    return ds_ens

for d, date in enumerate(init_dates):
    one_pangu_fc = read_ens_data(date)
    
    if d == 0:
        pangu_fc = one_pangu_fc.copy()
        
    else:
        pangu_fc = xr.concat([pangu_fc, one_pangu_fc], dim='init_date')
print(pangu_fc.coords)
